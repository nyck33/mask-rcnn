{
  "nbformat": 4,
  "nbformat_minor": 0,
  "metadata": {
    "colab": {
      "name": "masked-r-cnn-pyimage.ipynb",
      "version": "0.3.2",
      "provenance": [],
      "collapsed_sections": [],
      "include_colab_link": true
    },
    "kernelspec": {
      "name": "python3",
      "display_name": "Python 3"
    },
    "accelerator": "GPU"
  },
  "cells": [
    {
      "cell_type": "markdown",
      "metadata": {
        "id": "view-in-github",
        "colab_type": "text"
      },
      "source": [
        "<a href=\"https://colab.research.google.com/github/nyck33/mask-rcnn/blob/master/masked_r_cnn_pyimage.ipynb\" target=\"_parent\"><img src=\"https://colab.research.google.com/assets/colab-badge.svg\" alt=\"Open In Colab\"/></a>"
      ]
    },
    {
      "cell_type": "code",
      "metadata": {
        "id": "hANQAqC8cxL5",
        "colab_type": "code",
        "outputId": "9deffe89-5360-498a-dcfb-8db8bb421f89",
        "colab": {
          "base_uri": "https://localhost:8080/",
          "height": 122
        }
      },
      "source": [
        "!git clone https://github.com/nyck33/mask-rcnn.git"
      ],
      "execution_count": 2,
      "outputs": [
        {
          "output_type": "stream",
          "text": [
            "Cloning into 'mask-rcnn'...\n",
            "remote: Enumerating objects: 25, done.\u001b[K\n",
            "remote: Counting objects: 100% (25/25), done.\u001b[K\n",
            "remote: Compressing objects: 100% (24/24), done.\u001b[K\n",
            "remote: Total 25 (delta 4), reused 15 (delta 1), pack-reused 0\u001b[K\n",
            "Unpacking objects: 100% (25/25), done.\n"
          ],
          "name": "stdout"
        }
      ]
    },
    {
      "cell_type": "code",
      "metadata": {
        "id": "QNEf0ldrijyc",
        "colab_type": "code",
        "colab": {}
      },
      "source": [
        "# USAGE\n",
        "#python mask_rcnn_video.py --input videos/cats_and_dogs.mp4 --output output/cats_and_dogs_output.avi --mask-rcnn mask-rcnn-coco\n",
        "\n",
        "# import the necessary packages\n",
        "import numpy as np\n",
        "import argparse\n",
        "import imutils\n",
        "import time\n",
        "import cv2\n",
        "import os\n"
      ],
      "execution_count": 0,
      "outputs": []
    },
    {
      "cell_type": "code",
      "metadata": {
        "id": "kFtxHp9PT9b_",
        "colab_type": "code",
        "outputId": "48395457-c444-446a-aa1e-3a8b1b23d249",
        "colab": {
          "base_uri": "https://localhost:8080/",
          "height": 54
        }
      },
      "source": [
        "'''\n",
        "#read and display a video\n",
        "#probably don't need this cell\n",
        "cap = cv2.VideoCapture('fedNadal.mp4')\n",
        "\n",
        "if(cap.isOpened()== False):\n",
        "    print(\"Error opening video stream or file\")\n",
        "   \n",
        "while(cap.isOpened()):\n",
        "    ret, frame = cap.read()\n",
        "    if ret == True:\n",
        "        \n",
        "        cv2.imshow('Frame', frame)\n",
        "        \n",
        "        if cv2.waitKey(25) & 0xFF == ord('q'):\n",
        "            break\n",
        "            \n",
        "    else:\n",
        "        break\n",
        "        \n",
        "cap.release()\n",
        "'''"
      ],
      "execution_count": 4,
      "outputs": [
        {
          "output_type": "execute_result",
          "data": {
            "text/plain": [
              "'\\n#read and display a video\\n#probably don\\'t need this cell\\ncap = cv2.VideoCapture(\\'fedNadal.mp4\\')\\n\\nif(cap.isOpened()== False):\\n    print(\"Error opening video stream or file\")\\n   \\nwhile(cap.isOpened()):\\n    ret, frame = cap.read()\\n    if ret == True:\\n        \\n        cv2.imshow(\\'Frame\\', frame)\\n        \\n        if cv2.waitKey(25) & 0xFF == ord(\\'q\\'):\\n            break\\n            \\n    else:\\n        break\\n        \\ncap.release()\\n'"
            ]
          },
          "metadata": {
            "tags": []
          },
          "execution_count": 4
        }
      ]
    },
    {
      "cell_type": "code",
      "metadata": {
        "id": "3cA6c4kiVdKq",
        "colab_type": "code",
        "colab": {}
      },
      "source": [
        "CONFIDENCE = 0.5\n",
        "THRESHOLD = 0.3"
      ],
      "execution_count": 0,
      "outputs": []
    },
    {
      "cell_type": "code",
      "metadata": {
        "id": "x20_y48Yc7Js",
        "colab_type": "code",
        "outputId": "bb40a19c-6cb7-416d-bdca-ef3c46287e0c",
        "colab": {
          "base_uri": "https://localhost:8080/",
          "height": 308
        }
      },
      "source": [
        "# load the COCO class labels our Mask R-CNN was trained on\n",
        "labelsPath = \"mask-rcnn/mask-rcnn-coco/object_detection_classes_coco.txt\"\n",
        "LABELS = open(labelsPath).read().strip().split(\"\\n\")\n",
        "\n",
        "# initialize a list of colors to represent each possible class label\n",
        "np.random.seed(42)\n",
        "COLORS = np.random.randint(0, 255, size=(len(LABELS), 3),\n",
        "\tdtype=\"uint8\")\n",
        "\n",
        "# derive the paths to the Mask R-CNN weights and model configuration\n",
        "weightsPath = \"mask-rcnn/mask-rcnn-coco/frozen_inference_graph.pb\"\n",
        "configPath = \"mask-rcnn/mask-rcnn-coco/mask_rcnn_inception_v2_coco_2018_01_28.pbtxt\"\n",
        "\n",
        "# load our Mask R-CNN trained on the COCO dataset (90 classes)\n",
        "# from disk\n",
        "print(\"[INFO] loading Mask R-CNN from disk...\")\n",
        "net = cv2.dnn.readNetFromTensorflow(weightsPath, configPath)\n",
        "\n",
        "# initialize the video stream and pointer to output video file\n",
        "vs = cv2.VideoCapture('fedNadal.mp4')\n",
        "writer = None\n",
        "\n",
        "# try to determine the total number of frames in the video file\n",
        "try:\n",
        "\tprop = cv2.cv.CV_CAP_PROP_FRAME_COUNT if imutils.is_cv2() \\\n",
        "\t\telse cv2.CAP_PROP_FRAME_COUNT\n",
        "\ttotal = int(vs.get(prop))\n",
        "\tprint(\"[INFO] {} total frames in video\".format(total))\n",
        "\n",
        "# an error occurred while trying to determine the total\n",
        "# number of frames in the video file\n",
        "except:\n",
        "\tprint(\"[INFO] could not determine # of frames in video\")\n",
        "\ttotal = -1\n",
        "\n",
        "# loop over frames from the video file stream\n",
        "while True:\n",
        "\t# read the next frame from the file\n",
        "\t(grabbed, frame) = vs.read()\n",
        "\n",
        "\t# if the frame was not grabbed, then we have reached the end\n",
        "\t# of the stream\n",
        "\tif not grabbed:\n",
        "\t\tbreak\n",
        "\n",
        "\t# construct a blob from the input frame and then perform a\n",
        "\t# forward pass of the Mask R-CNN, giving us (1) the bounding box\n",
        "\t# coordinates of the objects in the image along with (2) the\n",
        "\t# pixel-wise segmentation for each specific object\n",
        "\tblob = cv2.dnn.blobFromImage(frame, swapRB=True, crop=False)\n",
        "\tnet.setInput(blob)\n",
        "\tstart = time.time()\n",
        "\t#bbox coordinates of objects and pixel-wise segmentation\n",
        "\t(boxes, masks) = net.forward([\"detection_out_final\",\n",
        "\t\t\"detection_masks\"])\n",
        "\tend = time.time()\n",
        "\n",
        "\t# loop over the number of detected objects\n",
        "\tfor i in range(0, boxes.shape[2]):\n",
        "\t\t# extract the class ID of the detection along with the\n",
        "\t\t# confidence (i.e., probability) associated with the\n",
        "\t\t# prediction\n",
        "\t\tclassID = int(boxes[0, 0, i, 1])\n",
        "\t\tconfidence = boxes[0, 0, i, 2]\n",
        "\n",
        "\t\t# filter out weak predictions by ensuring the detected\n",
        "\t\t# probability is greater than the minimum probability\n",
        "\t\tif confidence > CONFIDENCE:\n",
        "\t\t\t# scale the bounding box coordinates back relative to the\n",
        "\t\t\t# size of the frame and then compute the width and the\n",
        "\t\t\t# height of the bounding box\n",
        "\t\t\t(H, W) = frame.shape[:2]\n",
        "\t\t\tbox = boxes[0, 0, i, 3:7] * np.array([W, H, W, H])\n",
        "\t\t\t(startX, startY, endX, endY) = box.astype(\"int\")\n",
        "\t\t\tboxW = endX - startX\n",
        "\t\t\tboxH = endY - startY\n",
        "\n",
        "\t\t\t# extract the pixel-wise segmentation for the object,\n",
        "\t\t\t# resize the mask such that it's the same dimensions of\n",
        "\t\t\t# the bounding box, and then finally threshold to create\n",
        "\t\t\t# a *binary* mask\n",
        "\t\t\tmask = masks[i, classID]\n",
        "\t\t\tmask = cv2.resize(mask, (boxW, boxH), #how if mask is not a rectangle?\n",
        "\t\t\t\tinterpolation=cv2.INTER_NEAREST)\n",
        "\t\t\tmask = (mask > THRESHOLD)\n",
        "\n",
        "\t\t\t# extract the ROI of the image but *only* extracted the\n",
        "\t\t\t# masked region of the ROI\n",
        "\t\t\troi = frame[startY:endY, startX:endX][mask]\n",
        "\n",
        "\t\t\t# grab the color used to visualize this particular class,\n",
        "\t\t\t# then create a transparent overlay by blending the color\n",
        "\t\t\t# with the ROI\n",
        "\t\t\tcolor = COLORS[classID]\n",
        "\t\t\tblended = ((0.4 * color) + (0.6 * roi)).astype(\"uint8\")\n",
        "\n",
        "\t\t\t# store the blended ROI in the original frame\n",
        "\t\t\tframe[startY:endY, startX:endX][mask] = blended\n",
        "\n",
        "\t\t\t# draw the bounding box of the instance on the frame\n",
        "\t\t\tcolor = [int(c) for c in color]\n",
        "\t\t\tcv2.rectangle(frame, (startX, startY), (endX, endY),\n",
        "\t\t\t\tcolor, 2)\n",
        "\n",
        "\t\t\t# draw the predicted label and associated probability of\n",
        "\t\t\t# the instance segmentation on the frame\n",
        "\t\t\ttext = \"{}: {:.4f}\".format(LABELS[classID], confidence)\n",
        "\t\t\tcv2.putText(frame, text, (startX, startY - 5),\n",
        "\t\t\t\tcv2.FONT_HERSHEY_SIMPLEX, 0.5, color, 2)\n",
        "\n",
        "\t# check if the video writer is None\n",
        "\tif writer is None:\n",
        "\t\t# initialize our video writer\n",
        "\t\twriter = cv2.VideoWriter('mask-fedNadal.avi',cv2.VideoWriter_fourcc('M','J','P','G'), 30, (frame.shape[1], frame.shape[0]), True)\n",
        "\t\t# some information on processing single frame\n",
        "\t\tif total > 0:\n",
        "\t\t\telap = (end - start)\n",
        "\t\t\tprint(\"[INFO] single frame took {:.4f} seconds\".format(elap))\n",
        "\t\t\tprint(\"[INFO] estimated total time to finish: {:.4f}\".format(\n",
        "\t\t\t\telap * total))\n",
        "\n",
        "\t# write the output frame to disk\n",
        "\twriter.write(frame)\n",
        "\n",
        "# release the file pointers\n",
        "print(\"[INFO] cleaning up...\")\n",
        "writer.release()\n",
        "vs.release()"
      ],
      "execution_count": 6,
      "outputs": [
        {
          "output_type": "stream",
          "text": [
            "[INFO] loading Mask R-CNN from disk...\n",
            "[INFO] 10080 total frames in video\n",
            "[INFO] single frame took 5.5765 seconds\n",
            "[INFO] estimated total time to finish: 56211.5568\n"
          ],
          "name": "stdout"
        },
        {
          "output_type": "error",
          "ename": "KeyboardInterrupt",
          "evalue": "ignored",
          "traceback": [
            "\u001b[0;31m---------------------------------------------------------------------------\u001b[0m",
            "\u001b[0;31mKeyboardInterrupt\u001b[0m                         Traceback (most recent call last)",
            "\u001b[0;32m<ipython-input-6-43f7cebaffe7>\u001b[0m in \u001b[0;36m<module>\u001b[0;34m()\u001b[0m\n\u001b[1;32m     51\u001b[0m         \u001b[0;31m#bbox coordinates of objects and pixel-wise segmentation\u001b[0m\u001b[0;34m\u001b[0m\u001b[0;34m\u001b[0m\u001b[0;34m\u001b[0m\u001b[0m\n\u001b[1;32m     52\u001b[0m \t(boxes, masks) = net.forward([\"detection_out_final\",\n\u001b[0;32m---> 53\u001b[0;31m \t\t\"detection_masks\"])\n\u001b[0m\u001b[1;32m     54\u001b[0m         \u001b[0mend\u001b[0m \u001b[0;34m=\u001b[0m \u001b[0mtime\u001b[0m\u001b[0;34m.\u001b[0m\u001b[0mtime\u001b[0m\u001b[0;34m(\u001b[0m\u001b[0;34m)\u001b[0m\u001b[0;34m\u001b[0m\u001b[0;34m\u001b[0m\u001b[0m\n\u001b[1;32m     55\u001b[0m \u001b[0;34m\u001b[0m\u001b[0m\n",
            "\u001b[0;31mKeyboardInterrupt\u001b[0m: "
          ]
        }
      ]
    }
  ]
}